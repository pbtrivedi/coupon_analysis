{
  "cells": [
    {
      "cell_type": "markdown",
      "metadata": {
        "id": "CcUT6Fon_qRE"
      },
      "source": [
        "### Required Assignment 5.1: Will the Customer Accept the Coupon?\n",
        "\n",
        "**Context**\n",
        "\n",
        "Imagine driving through town and a coupon is delivered to your cell phone for a restaurant near where you are driving. Would you accept that coupon and take a short detour to the restaurant? Would you accept the coupon but use it on a subsequent trip? Would you ignore the coupon entirely? What if the coupon was for a bar instead of a restaurant? What about a coffee house? Would you accept a bar coupon with a minor passenger in the car? What about if it was just you and your partner in the car? Would weather impact the rate of acceptance? What about the time of day?\n",
        "\n",
        "Obviously, proximity to the business is a factor on whether the coupon is delivered to the driver or not, but what are the factors that determine whether a driver accepts the coupon once it is delivered to them? How would you determine whether a driver is likely to accept a coupon?\n",
        "\n",
        "**Overview**\n",
        "\n",
        "The goal of this project is to use what you know about visualizations and probability distributions to distinguish between customers who accepted a driving coupon versus those that did not.\n",
        "\n",
        "**Data**\n",
        "\n",
        "This data comes to us from the UCI Machine Learning repository and was collected via a survey on Amazon Mechanical Turk. The survey describes different driving scenarios including the destination, current time, weather, passenger, etc., and then ask the person whether he will accept the coupon if he is the driver. Answers that the user will drive there ‘right away’ or ‘later before the coupon expires’ are labeled as ‘Y = 1’ and answers ‘no, I do not want the coupon’ are labeled as ‘Y = 0’.  There are five different types of coupons -- less expensive restaurants (under \\$20), coffee houses, carry out & take away, bar, and more expensive restaurants (\\$20 - $50)."
      ]
    },
    {
      "cell_type": "markdown",
      "metadata": {
        "id": "1wORvMBJ_qRF"
      },
      "source": [
        "**Deliverables**\n",
        "\n",
        "Your final product should be a brief report that highlights the differences between customers who did and did not accept the coupons.  To explore the data you will utilize your knowledge of plotting, statistical summaries, and visualization using Python. You will publish your findings in a public facing github repository as your first portfolio piece.\n",
        "\n",
        "\n",
        "\n"
      ]
    },
    {
      "cell_type": "markdown",
      "metadata": {
        "id": "pG6_Ym6q_qRG"
      },
      "source": [
        "### Data Description\n",
        "Keep in mind that these values mentioned below are average values.\n",
        "\n",
        "The attributes of this data set include:\n",
        "1. User attributes\n",
        "    -  Gender: male, female\n",
        "    -  Age: below 21, 21 to 25, 26 to 30, etc.\n",
        "    -  Marital Status: single, married partner, unmarried partner, or widowed\n",
        "    -  Number of children: 0, 1, or more than 1\n",
        "    -  Education: high school, bachelors degree, associates degree, or graduate degree\n",
        "    -  Occupation: architecture & engineering, business & financial, etc.\n",
        "    -  Annual income: less than \\\\$12500, \\\\$12500 - \\\\$24999, \\\\$25000 - \\\\$37499, etc.\n",
        "    -  Number of times that he/she goes to a bar: 0, less than 1, 1 to 3, 4 to 8 or greater than 8\n",
        "    -  Number of times that he/she buys takeaway food: 0, less than 1, 1 to 3, 4 to 8 or greater\n",
        "    than 8\n",
        "    -  Number of times that he/she goes to a coffee house: 0, less than 1, 1 to 3, 4 to 8 or\n",
        "    greater than 8\n",
        "    -  Number of times that he/she eats at a restaurant with average expense less than \\\\$20 per\n",
        "    person: 0, less than 1, 1 to 3, 4 to 8 or greater than 8\n",
        "    -  Number of times that he/she goes to a bar: 0, less than 1, 1 to 3, 4 to 8 or greater than 8\n",
        "    \n",
        "\n",
        "2. Contextual attributes\n",
        "    - Driving destination: home, work, or no urgent destination\n",
        "    - Location of user, coupon and destination: we provide a map to show the geographical\n",
        "    location of the user, destination, and the venue, and we mark the distance between each\n",
        "    two places with time of driving. The user can see whether the venue is in the same\n",
        "    direction as the destination.\n",
        "    - Weather: sunny, rainy, or snowy\n",
        "    - Temperature: 30F, 55F, or 80F\n",
        "    - Time: 10AM, 2PM, or 6PM\n",
        "    - Passenger: alone, partner, kid(s), or friend(s)\n",
        "\n",
        "\n",
        "3. Coupon attributes\n",
        "    - time before it expires: 2 hours or one day"
      ]
    },
    {
      "cell_type": "code",
      "execution_count": 275,
      "metadata": {
        "id": "dzNoP3o__qRG"
      },
      "outputs": [],
      "source": [
        "import matplotlib.pyplot as plt\n",
        "import seaborn as sns\n",
        "import pandas as pd\n",
        "import numpy as np\n",
        "import plotly.express as px"
      ]
    },
    {
      "cell_type": "markdown",
      "metadata": {
        "id": "Ct8pI1uE_qRG"
      },
      "source": [
        "### Problems\n",
        "\n",
        "Use the prompts below to get started with your data analysis.  \n",
        "\n",
        "1. Read in the `coupons.csv` file.\n",
        "\n",
        "\n"
      ]
    },
    {
      "cell_type": "code",
      "execution_count": 174,
      "metadata": {
        "id": "X0vbffYg_qRH"
      },
      "outputs": [],
      "source": [
        "data = pd.read_csv('data/coupons.csv')"
      ]
    },
    {
      "cell_type": "code",
      "execution_count": 276,
      "metadata": {
        "id": "TXofQ_DF_qRH",
        "outputId": "2fc96a2c-1112-4b54-f24f-dbb9bc88abfb"
      },
      "outputs": [
        {
          "name": "stdout",
          "output_type": "stream",
          "text": [
            "<class 'pandas.core.frame.DataFrame'>\n",
            "Index: 12079 entries, 22 to 12683\n",
            "Data columns (total 25 columns):\n",
            " #   Column                Non-Null Count  Dtype \n",
            "---  ------                --------------  ----- \n",
            " 0   destination           12079 non-null  object\n",
            " 1   passanger             12079 non-null  object\n",
            " 2   weather               12079 non-null  object\n",
            " 3   temperature           12079 non-null  int64 \n",
            " 4   time                  12079 non-null  object\n",
            " 5   coupon                12079 non-null  object\n",
            " 6   expiration            12079 non-null  object\n",
            " 7   gender                12079 non-null  object\n",
            " 8   age                   12079 non-null  object\n",
            " 9   maritalStatus         12079 non-null  object\n",
            " 10  has_children          12079 non-null  int64 \n",
            " 11  education             12079 non-null  object\n",
            " 12  occupation            12079 non-null  object\n",
            " 13  income                12079 non-null  object\n",
            " 14  Bar                   12079 non-null  object\n",
            " 15  CoffeeHouse           12079 non-null  object\n",
            " 16  CarryAway             12079 non-null  object\n",
            " 17  RestaurantLessThan20  12079 non-null  object\n",
            " 18  Restaurant20To50      12079 non-null  object\n",
            " 19  toCoupon_GEQ5min      12079 non-null  int64 \n",
            " 20  toCoupon_GEQ15min     12079 non-null  int64 \n",
            " 21  toCoupon_GEQ25min     12079 non-null  int64 \n",
            " 22  direction_same        12079 non-null  int64 \n",
            " 23  direction_opp         12079 non-null  int64 \n",
            " 24  Y                     12079 non-null  int64 \n",
            "dtypes: int64(8), object(17)\n",
            "memory usage: 2.4+ MB\n"
          ]
        }
      ],
      "source": [
        "data.info()"
      ]
    },
    {
      "cell_type": "code",
      "execution_count": 277,
      "metadata": {},
      "outputs": [
        {
          "data": {
            "text/plain": [
              "Index(['destination', 'passanger', 'weather', 'temperature', 'time', 'coupon',\n",
              "       'expiration', 'gender', 'age', 'maritalStatus', 'has_children',\n",
              "       'education', 'occupation', 'income', 'Bar', 'CoffeeHouse', 'CarryAway',\n",
              "       'RestaurantLessThan20', 'Restaurant20To50', 'toCoupon_GEQ5min',\n",
              "       'toCoupon_GEQ15min', 'toCoupon_GEQ25min', 'direction_same',\n",
              "       'direction_opp', 'Y'],\n",
              "      dtype='object')"
            ]
          },
          "execution_count": 277,
          "metadata": {},
          "output_type": "execute_result"
        }
      ],
      "source": [
        "data.describe()\n",
        "\n",
        "data.columns"
      ]
    },
    {
      "cell_type": "markdown",
      "metadata": {
        "id": "GcDs78ZH_qRH"
      },
      "source": [
        "2. Investigate the dataset for missing or problematic data."
      ]
    },
    {
      "cell_type": "code",
      "execution_count": 278,
      "metadata": {
        "id": "6CwL6oWj_qRH"
      },
      "outputs": [
        {
          "data": {
            "text/plain": [
              "destination             0\n",
              "passanger               0\n",
              "weather                 0\n",
              "temperature             0\n",
              "time                    0\n",
              "coupon                  0\n",
              "expiration              0\n",
              "gender                  0\n",
              "age                     0\n",
              "maritalStatus           0\n",
              "has_children            0\n",
              "education               0\n",
              "occupation              0\n",
              "income                  0\n",
              "Bar                     0\n",
              "CoffeeHouse             0\n",
              "CarryAway               0\n",
              "RestaurantLessThan20    0\n",
              "Restaurant20To50        0\n",
              "toCoupon_GEQ5min        0\n",
              "toCoupon_GEQ15min       0\n",
              "toCoupon_GEQ25min       0\n",
              "direction_same          0\n",
              "direction_opp           0\n",
              "Y                       0\n",
              "dtype: int64"
            ]
          },
          "execution_count": 278,
          "metadata": {},
          "output_type": "execute_result"
        }
      ],
      "source": [
        "data.isnull().sum()"
      ]
    },
    {
      "cell_type": "markdown",
      "metadata": {
        "id": "bSdVSpYB_qRH"
      },
      "source": [
        "3. Decide what to do about your missing data -- drop, replace, other..."
      ]
    },
    {
      "cell_type": "code",
      "execution_count": 279,
      "metadata": {
        "id": "tyvoAC5F_qRI"
      },
      "outputs": [
        {
          "name": "stdout",
          "output_type": "stream",
          "text": [
            "<class 'pandas.core.frame.DataFrame'>\n"
          ]
        },
        {
          "data": {
            "text/plain": [
              "Index(['destination', 'passanger', 'weather', 'temperature', 'time', 'coupon',\n",
              "       'expiration', 'gender', 'age', 'maritalStatus', 'has_children',\n",
              "       'education', 'occupation', 'income', 'Bar', 'CoffeeHouse', 'CarryAway',\n",
              "       'RestaurantLessThan20', 'Restaurant20To50', 'toCoupon_GEQ5min',\n",
              "       'toCoupon_GEQ15min', 'toCoupon_GEQ25min', 'direction_same',\n",
              "       'direction_opp', 'Y'],\n",
              "      dtype='object')"
            ]
          },
          "execution_count": 279,
          "metadata": {},
          "output_type": "execute_result"
        }
      ],
      "source": [
        "# 1. Information in \"car\" columns is so little that we will just drop the column.\n",
        "data = data[['destination', 'passanger', 'weather', 'temperature', 'time', 'coupon',\n",
        "       'expiration', 'gender', 'age', 'maritalStatus', 'has_children',\n",
        "       'education', 'occupation', 'income', 'Bar', 'CoffeeHouse',\n",
        "       'CarryAway', 'RestaurantLessThan20', 'Restaurant20To50',\n",
        "       'toCoupon_GEQ5min', 'toCoupon_GEQ15min', 'toCoupon_GEQ25min',\n",
        "       'direction_same', 'direction_opp', 'Y']]\n",
        "\n",
        "print(type(data))\n",
        "\n",
        "data.columns"
      ]
    },
    {
      "cell_type": "code",
      "execution_count": 280,
      "metadata": {},
      "outputs": [
        {
          "name": "stdout",
          "output_type": "stream",
          "text": [
            "destination             0\n",
            "passanger               0\n",
            "weather                 0\n",
            "temperature             0\n",
            "time                    0\n",
            "coupon                  0\n",
            "expiration              0\n",
            "gender                  0\n",
            "age                     0\n",
            "maritalStatus           0\n",
            "has_children            0\n",
            "education               0\n",
            "occupation              0\n",
            "income                  0\n",
            "Bar                     0\n",
            "CoffeeHouse             0\n",
            "CarryAway               0\n",
            "RestaurantLessThan20    0\n",
            "Restaurant20To50        0\n",
            "toCoupon_GEQ5min        0\n",
            "toCoupon_GEQ15min       0\n",
            "toCoupon_GEQ25min       0\n",
            "direction_same          0\n",
            "direction_opp           0\n",
            "Y                       0\n",
            "dtype: int64\n"
          ]
        }
      ],
      "source": [
        "# Let's look at the information for other NaN columns\n",
        "# There are five columns with numm values - Bar, CoffeeHouse, CarryAway, RestaurantLessThan20, Restaurant20To50\n",
        "# And they all have a average range value for using the coupon from Never to more than eight times. \n",
        "# there is no clear way to substitute missing values and since the number of rows impacted are small, 605 in total, we will drop all those rows\n",
        "print(data[ (data['Bar'].isnull()) | (data['CoffeeHouse'].isnull()) | (data['CarryAway'].isnull()) | (data['Restaurant20To50'].isnull()) | (data['RestaurantLessThan20'].isnull())].count())\n",
        "\n",
        "data = data.dropna()\n"
      ]
    },
    {
      "cell_type": "code",
      "execution_count": 312,
      "metadata": {
        "id": "86GGqBTv_qRI"
      },
      "outputs": [
        {
          "name": "stdout",
          "output_type": "stream",
          "text": [
            "<class 'pandas.core.frame.DataFrame'>\n",
            "Index: 12079 entries, 22 to 12683\n",
            "Data columns (total 25 columns):\n",
            " #   Column                Non-Null Count  Dtype \n",
            "---  ------                --------------  ----- \n",
            " 0   destination           12079 non-null  object\n",
            " 1   passanger             12079 non-null  object\n",
            " 2   weather               12079 non-null  object\n",
            " 3   temperature           12079 non-null  int64 \n",
            " 4   time                  12079 non-null  object\n",
            " 5   coupon                12079 non-null  object\n",
            " 6   expiration            12079 non-null  object\n",
            " 7   gender                12079 non-null  object\n",
            " 8   age                   12079 non-null  object\n",
            " 9   maritalStatus         12079 non-null  object\n",
            " 10  has_children          12079 non-null  int64 \n",
            " 11  education             12079 non-null  object\n",
            " 12  occupation            12079 non-null  object\n",
            " 13  income                12079 non-null  object\n",
            " 14  Bar                   12079 non-null  object\n",
            " 15  CoffeeHouse           12079 non-null  object\n",
            " 16  CarryAway             12079 non-null  object\n",
            " 17  RestaurantLessThan20  12079 non-null  object\n",
            " 18  Restaurant20To50      12079 non-null  object\n",
            " 19  toCoupon_GEQ5min      12079 non-null  int64 \n",
            " 20  toCoupon_GEQ15min     12079 non-null  int64 \n",
            " 21  toCoupon_GEQ25min     12079 non-null  int64 \n",
            " 22  direction_same        12079 non-null  int64 \n",
            " 23  direction_opp         12079 non-null  int64 \n",
            " 24  Y                     12079 non-null  int64 \n",
            "dtypes: int64(8), object(17)\n",
            "memory usage: 2.4+ MB\n",
            "None\n"
          ]
        }
      ],
      "source": [
        "# Let's check what we have so far\n",
        "\n",
        "print(data.info())"
      ]
    },
    {
      "cell_type": "code",
      "execution_count": 282,
      "metadata": {},
      "outputs": [
        {
          "name": "stdout",
          "output_type": "stream",
          "text": [
            "destination: No Urgent Place, Home, Work, \n",
            "passanger: Alone, Friend(s), Kid(s), Partner, \n",
            "weather: Sunny, Rainy, Snowy, \n",
            "temperature: 55, 80, 30, \n",
            "time: 2PM, 10AM, 6PM, 7AM, 10PM, \n",
            "coupon: Restaurant(<20), Coffee House, Bar, Carry out & Take away, Restaurant(20-50), \n",
            "expiration: 1d, 2h, \n",
            "gender: Male, Female, \n",
            "age: 21, 46, 26, 31, 41, 50plus, 36, below21, \n",
            "maritalStatus: Single, Married partner, Unmarried partner, Divorced, Widowed, \n",
            "has_children: 0, 1, \n",
            "education: Bachelors degree, Some college - no degree, Associates degree, High School Graduate, Graduate degree (Masters or Doctorate), Some High School, \n",
            "occupation: Architecture & Engineering, Student, Education&Training&Library, Unemployed, Healthcare Support, Healthcare Practitioners & Technical, Sales & Related, Management, Arts Design Entertainment Sports & Media, Computer & Mathematical, Life Physical Social Science, Personal Care & Service, Office & Administrative Support, Construction & Extraction, Legal, Retired, Community & Social Services, Installation Maintenance & Repair, Transportation & Material Moving, Business & Financial, Protective Service, Food Preparation & Serving Related, Production Occupations, Building & Grounds Cleaning & Maintenance, Farming Fishing & Forestry, \n",
            "income: $62500 - $74999, $12500 - $24999, $75000 - $87499, $50000 - $62499, $37500 - $49999, $25000 - $37499, $100000 or More, $87500 - $99999, Less than $12500, \n",
            "Bar: never, less1, 1~3, gt8, 4~8, \n",
            "CoffeeHouse: less1, 4~8, 1~3, gt8, never, \n",
            "CarryAway: 4~8, 1~3, gt8, less1, never, \n",
            "RestaurantLessThan20: 4~8, 1~3, less1, gt8, never, \n",
            "Restaurant20To50: less1, never, 1~3, gt8, 4~8, \n",
            "toCoupon_GEQ5min: 1, \n",
            "toCoupon_GEQ15min: 0, 1, \n",
            "toCoupon_GEQ25min: 0, 1, \n",
            "direction_same: 0, 1, \n",
            "direction_opp: 1, 0, \n",
            "Y: 1, 0, \n"
          ]
        }
      ],
      "source": [
        "# Create List of values for each column so that we have complete list available.\n",
        "\n",
        "rowinfo = \"\"\n",
        "for col in data.columns:\n",
        "    rowinfo = col + \": \"\n",
        "    for val in data[col].unique():\n",
        "        rowinfo += str(val) + \", \"        \n",
        "    print(rowinfo)"
      ]
    },
    {
      "cell_type": "markdown",
      "metadata": {},
      "source": [
        "4. What proportion of the total observations chose to accept the coupon?\n",
        "\n"
      ]
    },
    {
      "cell_type": "code",
      "execution_count": 283,
      "metadata": {},
      "outputs": [
        {
          "name": "stdout",
          "output_type": "stream",
          "text": [
            "<class 'numpy.float64'> 0.5693352098683666\n"
          ]
        }
      ],
      "source": [
        "coupon_acceptance = data.query('Y == 1').count()['Y'] / data.count()['Y']\n",
        "\n",
        "print(type(coupon_acceptance), coupon_acceptance)"
      ]
    },
    {
      "cell_type": "markdown",
      "metadata": {
        "id": "vflz0DoE_qRI"
      },
      "source": [
        "5. Use a bar plot to visualize the `coupon` column."
      ]
    },
    {
      "cell_type": "code",
      "execution_count": 284,
      "metadata": {
        "id": "dHFh3E45_qRI"
      },
      "outputs": [
        {
          "name": "stdout",
          "output_type": "stream",
          "text": [
            "<class 'pandas.core.frame.DataFrame'>\n",
            "                  coupon  Y  count\n",
            "0                    Bar  0   1125\n",
            "1                    Bar  1    788\n",
            "2  Carry out & Take away  0    598\n",
            "3  Carry out & Take away  1   1682\n",
            "4           Coffee House  0   1922\n",
            "5           Coffee House  1   1894\n",
            "6      Restaurant(20-50)  0    785\n",
            "7      Restaurant(20-50)  1    632\n",
            "8        Restaurant(<20)  0    772\n",
            "9        Restaurant(<20)  1   1881\n"
          ]
        },
        {
          "data": {
            "text/plain": [
              "(array([   0.,  250.,  500.,  750., 1000., 1250., 1500., 1750., 2000.,\n",
              "        2250.]),\n",
              " [Text(0.0, 0, '0'),\n",
              "  Text(250.0, 0, '250'),\n",
              "  Text(500.0, 0, '500'),\n",
              "  Text(750.0, 0, '750'),\n",
              "  Text(1000.0, 0, '1000'),\n",
              "  Text(1250.0, 0, '1250'),\n",
              "  Text(1500.0, 0, '1500'),\n",
              "  Text(1750.0, 0, '1750'),\n",
              "  Text(2000.0, 0, '2000'),\n",
              "  Text(2250.0, 0, '2250')])"
            ]
          },
          "execution_count": 284,
          "metadata": {},
          "output_type": "execute_result"
        },
        {
          "data": {
            "image/png": "[encoded data removed]",
            "text/plain": [
              "<Figure size 640x480 with 1 Axes>"
            ]
          },
          "metadata": {},
          "output_type": "display_data"
        }
      ],
      "source": [
        "coupon_count = data.groupby(['coupon', 'Y']).aggregate('count')['destination'].reset_index()\n",
        "coupon_count = coupon_count.rename(columns={'destination': 'count'})\n",
        "\n",
        "print(type(coupon_count))\n",
        "print(coupon_count)\n",
        "\n",
        "sns.barplot(coupon_count, x='count', y='coupon', hue='Y' )\n",
        "plt.xticks(rotation=45)"
      ]
    },
    {
      "cell_type": "code",
      "execution_count": 285,
      "metadata": {},
      "outputs": [
        {
          "data": {
            "text/plain": [
              "coupon               \n",
              "Coffee House             0.496331\n",
              "Restaurant(<20)          0.709009\n",
              "Carry out & Take away    0.737719\n",
              "Bar                      0.411918\n",
              "Restaurant(20-50)        0.446013\n",
              "Name: count, dtype: float64"
            ]
          },
          "execution_count": 285,
          "metadata": {},
          "output_type": "execute_result"
        }
      ],
      "source": [
        "#print(data.query('Y == 1')[['coupon']].value_counts())\n",
        "\n",
        "#print(data['coupon'].value_counts())\n",
        "\n",
        "data.query('Y == 1')[['coupon']].value_counts() / data[['coupon']].value_counts()"
      ]
    },
    {
      "cell_type": "markdown",
      "metadata": {
        "id": "Qw4lCyx2_qRI"
      },
      "source": [
        "6. Use a histogram to visualize the temperature column."
      ]
    },
    {
      "cell_type": "code",
      "execution_count": 286,
      "metadata": {
        "id": "Yg9Anv71_qRI"
      },
      "outputs": [
        {
          "data": {
            "text/plain": [
              "<Axes: xlabel='temperature', ylabel='Count'>"
            ]
          },
          "execution_count": 286,
          "metadata": {},
          "output_type": "execute_result"
        },
        {
          "data": {
            "image/png": "[encoded data removed]",
            "text/plain": [
              "<Figure size 640x480 with 1 Axes>"
            ]
          },
          "metadata": {},
          "output_type": "display_data"
        }
      ],
      "source": [
        "sns.histplot(data, x='temperature')"
      ]
    },
    {
      "cell_type": "code",
      "execution_count": 287,
      "metadata": {
        "id": "ShcUC-Vm_qRJ"
      },
      "outputs": [
        {
          "data": {
            "text/html": [
              "<div>\n",
              "<style scoped>\n",
              "    .dataframe tbody tr th:only-of-type {\n",
              "        vertical-align: middle;\n",
              "    }\n",
              "\n",
              "    .dataframe tbody tr th {\n",
              "        vertical-align: top;\n",
              "    }\n",
              "\n",
              "    .dataframe thead th {\n",
              "        text-align: right;\n",
              "    }\n",
              "</style>\n",
              "<table border=\"1\" class=\"dataframe\">\n",
              "  <thead>\n",
              "    <tr style=\"text-align: right;\">\n",
              "      <th></th>\n",
              "      <th>destination</th>\n",
              "      <th>passanger</th>\n",
              "      <th>weather</th>\n",
              "      <th>temperature</th>\n",
              "      <th>time</th>\n",
              "      <th>coupon</th>\n",
              "      <th>expiration</th>\n",
              "      <th>gender</th>\n",
              "      <th>age</th>\n",
              "      <th>maritalStatus</th>\n",
              "      <th>...</th>\n",
              "      <th>CoffeeHouse</th>\n",
              "      <th>CarryAway</th>\n",
              "      <th>RestaurantLessThan20</th>\n",
              "      <th>Restaurant20To50</th>\n",
              "      <th>toCoupon_GEQ5min</th>\n",
              "      <th>toCoupon_GEQ15min</th>\n",
              "      <th>toCoupon_GEQ25min</th>\n",
              "      <th>direction_same</th>\n",
              "      <th>direction_opp</th>\n",
              "      <th>Y</th>\n",
              "    </tr>\n",
              "  </thead>\n",
              "  <tbody>\n",
              "    <tr>\n",
              "      <th>22</th>\n",
              "      <td>No Urgent Place</td>\n",
              "      <td>Alone</td>\n",
              "      <td>Sunny</td>\n",
              "      <td>55</td>\n",
              "      <td>2PM</td>\n",
              "      <td>Restaurant(&lt;20)</td>\n",
              "      <td>1d</td>\n",
              "      <td>Male</td>\n",
              "      <td>21</td>\n",
              "      <td>Single</td>\n",
              "      <td>...</td>\n",
              "      <td>less1</td>\n",
              "      <td>4~8</td>\n",
              "      <td>4~8</td>\n",
              "      <td>less1</td>\n",
              "      <td>1</td>\n",
              "      <td>0</td>\n",
              "      <td>0</td>\n",
              "      <td>0</td>\n",
              "      <td>1</td>\n",
              "      <td>1</td>\n",
              "    </tr>\n",
              "    <tr>\n",
              "      <th>23</th>\n",
              "      <td>No Urgent Place</td>\n",
              "      <td>Friend(s)</td>\n",
              "      <td>Sunny</td>\n",
              "      <td>80</td>\n",
              "      <td>10AM</td>\n",
              "      <td>Coffee House</td>\n",
              "      <td>2h</td>\n",
              "      <td>Male</td>\n",
              "      <td>21</td>\n",
              "      <td>Single</td>\n",
              "      <td>...</td>\n",
              "      <td>less1</td>\n",
              "      <td>4~8</td>\n",
              "      <td>4~8</td>\n",
              "      <td>less1</td>\n",
              "      <td>1</td>\n",
              "      <td>0</td>\n",
              "      <td>0</td>\n",
              "      <td>0</td>\n",
              "      <td>1</td>\n",
              "      <td>0</td>\n",
              "    </tr>\n",
              "    <tr>\n",
              "      <th>24</th>\n",
              "      <td>No Urgent Place</td>\n",
              "      <td>Friend(s)</td>\n",
              "      <td>Sunny</td>\n",
              "      <td>80</td>\n",
              "      <td>10AM</td>\n",
              "      <td>Bar</td>\n",
              "      <td>1d</td>\n",
              "      <td>Male</td>\n",
              "      <td>21</td>\n",
              "      <td>Single</td>\n",
              "      <td>...</td>\n",
              "      <td>less1</td>\n",
              "      <td>4~8</td>\n",
              "      <td>4~8</td>\n",
              "      <td>less1</td>\n",
              "      <td>1</td>\n",
              "      <td>0</td>\n",
              "      <td>0</td>\n",
              "      <td>0</td>\n",
              "      <td>1</td>\n",
              "      <td>1</td>\n",
              "    </tr>\n",
              "    <tr>\n",
              "      <th>25</th>\n",
              "      <td>No Urgent Place</td>\n",
              "      <td>Friend(s)</td>\n",
              "      <td>Sunny</td>\n",
              "      <td>80</td>\n",
              "      <td>10AM</td>\n",
              "      <td>Carry out &amp; Take away</td>\n",
              "      <td>2h</td>\n",
              "      <td>Male</td>\n",
              "      <td>21</td>\n",
              "      <td>Single</td>\n",
              "      <td>...</td>\n",
              "      <td>less1</td>\n",
              "      <td>4~8</td>\n",
              "      <td>4~8</td>\n",
              "      <td>less1</td>\n",
              "      <td>1</td>\n",
              "      <td>1</td>\n",
              "      <td>0</td>\n",
              "      <td>0</td>\n",
              "      <td>1</td>\n",
              "      <td>0</td>\n",
              "    </tr>\n",
              "    <tr>\n",
              "      <th>26</th>\n",
              "      <td>No Urgent Place</td>\n",
              "      <td>Friend(s)</td>\n",
              "      <td>Sunny</td>\n",
              "      <td>80</td>\n",
              "      <td>2PM</td>\n",
              "      <td>Coffee House</td>\n",
              "      <td>1d</td>\n",
              "      <td>Male</td>\n",
              "      <td>21</td>\n",
              "      <td>Single</td>\n",
              "      <td>...</td>\n",
              "      <td>less1</td>\n",
              "      <td>4~8</td>\n",
              "      <td>4~8</td>\n",
              "      <td>less1</td>\n",
              "      <td>1</td>\n",
              "      <td>0</td>\n",
              "      <td>0</td>\n",
              "      <td>0</td>\n",
              "      <td>1</td>\n",
              "      <td>0</td>\n",
              "    </tr>\n",
              "  </tbody>\n",
              "</table>\n",
              "<p>5 rows × 25 columns</p>\n",
              "</div>"
            ],
            "text/plain": [
              "        destination  passanger weather  temperature  time  \\\n",
              "22  No Urgent Place      Alone   Sunny           55   2PM   \n",
              "23  No Urgent Place  Friend(s)   Sunny           80  10AM   \n",
              "24  No Urgent Place  Friend(s)   Sunny           80  10AM   \n",
              "25  No Urgent Place  Friend(s)   Sunny           80  10AM   \n",
              "26  No Urgent Place  Friend(s)   Sunny           80   2PM   \n",
              "\n",
              "                   coupon expiration gender age maritalStatus  ...  \\\n",
              "22        Restaurant(<20)         1d   Male  21        Single  ...   \n",
              "23           Coffee House         2h   Male  21        Single  ...   \n",
              "24                    Bar         1d   Male  21        Single  ...   \n",
              "25  Carry out & Take away         2h   Male  21        Single  ...   \n",
              "26           Coffee House         1d   Male  21        Single  ...   \n",
              "\n",
              "    CoffeeHouse CarryAway RestaurantLessThan20 Restaurant20To50  \\\n",
              "22        less1       4~8                  4~8            less1   \n",
              "23        less1       4~8                  4~8            less1   \n",
              "24        less1       4~8                  4~8            less1   \n",
              "25        less1       4~8                  4~8            less1   \n",
              "26        less1       4~8                  4~8            less1   \n",
              "\n",
              "   toCoupon_GEQ5min toCoupon_GEQ15min toCoupon_GEQ25min direction_same  \\\n",
              "22                1                 0                 0              0   \n",
              "23                1                 0                 0              0   \n",
              "24                1                 0                 0              0   \n",
              "25                1                 1                 0              0   \n",
              "26                1                 0                 0              0   \n",
              "\n",
              "   direction_opp  Y  \n",
              "22             1  1  \n",
              "23             1  0  \n",
              "24             1  1  \n",
              "25             1  0  \n",
              "26             1  0  \n",
              "\n",
              "[5 rows x 25 columns]"
            ]
          },
          "execution_count": 287,
          "metadata": {},
          "output_type": "execute_result"
        }
      ],
      "source": [
        "data.head()"
      ]
    },
    {
      "cell_type": "markdown",
      "metadata": {
        "id": "FupfgeJk_qRJ"
      },
      "source": [
        "**Investigating the Bar Coupons**\n",
        "\n",
        "Now, we will lead you through an exploration of just the bar related coupons.  \n",
        "\n",
        "1. Create a new `DataFrame` that contains just the bar coupons.\n"
      ]
    },
    {
      "cell_type": "code",
      "execution_count": 288,
      "metadata": {
        "id": "tMBlWuGq_qRJ"
      },
      "outputs": [
        {
          "name": "stdout",
          "output_type": "stream",
          "text": [
            "        destination  passanger weather  temperature  time coupon expiration  \\\n",
            "24  No Urgent Place  Friend(s)   Sunny           80  10AM    Bar         1d   \n",
            "35             Home      Alone   Sunny           55   6PM    Bar         1d   \n",
            "39             Work      Alone   Sunny           55   7AM    Bar         1d   \n",
            "46  No Urgent Place  Friend(s)   Sunny           80  10AM    Bar         1d   \n",
            "57             Home      Alone   Sunny           55   6PM    Bar         1d   \n",
            "\n",
            "   gender age maritalStatus  ...  CoffeeHouse CarryAway RestaurantLessThan20  \\\n",
            "24   Male  21        Single  ...        less1       4~8                  4~8   \n",
            "35   Male  21        Single  ...        less1       4~8                  4~8   \n",
            "39   Male  21        Single  ...        less1       4~8                  4~8   \n",
            "46   Male  46        Single  ...          4~8       1~3                  1~3   \n",
            "57   Male  46        Single  ...          4~8       1~3                  1~3   \n",
            "\n",
            "   Restaurant20To50 toCoupon_GEQ5min toCoupon_GEQ15min toCoupon_GEQ25min  \\\n",
            "24            less1                1                 0                 0   \n",
            "35            less1                1                 0                 0   \n",
            "39            less1                1                 1                 1   \n",
            "46            never                1                 0                 0   \n",
            "57            never                1                 0                 0   \n",
            "\n",
            "   direction_same direction_opp  Y  \n",
            "24              0             1  1  \n",
            "35              1             0  1  \n",
            "39              0             1  1  \n",
            "46              0             1  0  \n",
            "57              1             0  0  \n",
            "\n",
            "[5 rows x 25 columns]\n",
            "(1913, 25)\n"
          ]
        }
      ],
      "source": [
        "bar_coupons = data.query('coupon == \"Bar\"')\n",
        "print(bar_coupons.head())\n",
        "print(bar_coupons.shape)"
      ]
    },
    {
      "cell_type": "markdown",
      "metadata": {
        "id": "8ue6uCqf_qRJ"
      },
      "source": [
        "2. What proportion of bar coupons were accepted?\n"
      ]
    },
    {
      "cell_type": "code",
      "execution_count": 289,
      "metadata": {
        "id": "hSdte8Mi_qRK"
      },
      "outputs": [
        {
          "name": "stdout",
          "output_type": "stream",
          "text": [
            "<class 'numpy.float64'>\n",
            "788 1913 0.41191845269210664\n"
          ]
        },
        {
          "data": {
            "text/plain": [
              "<Axes: xlabel='Bar', ylabel='Count'>"
            ]
          },
          "execution_count": 289,
          "metadata": {},
          "output_type": "execute_result"
        },
        {
          "data": {
            "image/png": "[encoded data removed]",
            "text/plain": [
              "<Figure size 640x480 with 1 Axes>"
            ]
          },
          "metadata": {},
          "output_type": "display_data"
        }
      ],
      "source": [
        "bar_coupon_accp_count = bar_coupons.query('Y == 1').count()['Y'] / bar_coupons.count()['Y']\n",
        "\n",
        "print(type(bar_coupon_accp_count))\n",
        "print(bar_coupons.query('Y == 1').count()['Y'], bar_coupons.count()['Y'], bar_coupon_accp_count)\n",
        "\n",
        "sns.histplot(bar_coupons, x='Bar', hue='Y')"
      ]
    },
    {
      "cell_type": "markdown",
      "metadata": {
        "id": "85nA_iEi_qRK"
      },
      "source": [
        "3. Compare the acceptance rate between those who went to a bar 3 or fewer times a month to those who went more.\n"
      ]
    },
    {
      "cell_type": "code",
      "execution_count": 290,
      "metadata": {},
      "outputs": [
        {
          "data": {
            "text/plain": [
              "Bar\n",
              "never    788\n",
              "less1    553\n",
              "1~3      379\n",
              "4~8      147\n",
              "gt8       46\n",
              "Name: count, dtype: int64"
            ]
          },
          "execution_count": 290,
          "metadata": {},
          "output_type": "execute_result"
        }
      ],
      "source": [
        "bar_coupons['Bar'].value_counts()"
      ]
    },
    {
      "cell_type": "code",
      "execution_count": 291,
      "metadata": {
        "id": "LBOrN-XM_qRK"
      },
      "outputs": [
        {
          "name": "stdout",
          "output_type": "stream",
          "text": [
            "<class 'numpy.float64'>\n",
            "0.37267441860465117\n",
            "<class 'numpy.float64'>\n",
            "0.7616580310880829\n"
          ]
        }
      ],
      "source": [
        "lt3_bar_visits = ['never', 'less1', '1~3']\n",
        "\n",
        "bar_coupon_accp_count_lt3 = bar_coupons.query('Y == 1 and Bar in @lt3_bar_visits').aggregate('count')['Y'] / bar_coupons.query('Bar in @lt3_bar_visits').count()['Y']\n",
        "\n",
        "print(type(bar_coupon_accp_count_lt3))\n",
        "print(bar_coupon_accp_count_lt3)\n",
        "\n",
        "bar_coupon_accp_count_gt3_1 = bar_coupons.query('Y == 1 and Bar not in @lt3_bar_visits').count()['Y'] / bar_coupons.query('Bar not in @lt3_bar_visits').count()['Y']\n",
        "\n",
        "print(type(bar_coupon_accp_count_gt3_1))\n",
        "print(bar_coupon_accp_count_gt3_1)"
      ]
    },
    {
      "cell_type": "markdown",
      "metadata": {
        "id": "RBgcQwH4_qRK"
      },
      "source": [
        "4. Compare the acceptance rate between drivers who go to a bar more than once a month and are over the age of 25 to the all others.  Is there a difference?\n"
      ]
    },
    {
      "cell_type": "code",
      "execution_count": 292,
      "metadata": {
        "id": "bf28bbeX_qRK"
      },
      "outputs": [
        {
          "name": "stdout",
          "output_type": "stream",
          "text": [
            "<class 'numpy.float64'> <class 'numpy.float64'>\n",
            "0.6898263027295285 0.3883495145631068\n"
          ]
        }
      ],
      "source": [
        "gt_once_a_month = ['1~3', '4~8', 'gt8']\n",
        "gt_25yrs = ['26', '31', '36', '41', '46', '50plus']\n",
        "\n",
        "bar_oncemonth_gt25 = bar_coupons.query('Y == 1 and Bar in @gt_once_a_month and age in @gt_25yrs').count()['Y'] / bar_coupons.query('Bar in @gt_once_a_month and age in @gt_25yrs').count()['Y']\n",
        "not_bar_oncemonth_gt_25 = bar_coupons.query('Y == 1 and not(Bar in @gt_once_a_month) and not(age in @gt_25yrs)').count()['Y'] / bar_coupons.query('not( Bar in @gt_once_a_month) and not(age in @gt_25yrs)').count()['Y']\n",
        "\n",
        "print(type(bar_oncemonth_gt25), type(not_bar_oncemonth_gt_25))\n",
        "print(bar_oncemonth_gt25, not_bar_oncemonth_gt_25)"
      ]
    },
    {
      "cell_type": "markdown",
      "metadata": {
        "id": "S4RKT4PJ_qRK"
      },
      "source": [
        "5. Use the same process to compare the acceptance rate between drivers who go to bars more than once a month and had passengers that were not a kid and had occupations other than farming, fishing, or forestry.\n"
      ]
    },
    {
      "cell_type": "code",
      "execution_count": 293,
      "metadata": {
        "id": "sENaI2Tg_qRK"
      },
      "outputs": [
        {
          "name": "stdout",
          "output_type": "stream",
          "text": [
            "<class 'numpy.float64'> 0.6853146853146853\n",
            "<class 'numpy.float64'> 0.20618556701030927\n",
            "<class 'numpy.float64'> 0.4117647058823529\n"
          ]
        }
      ],
      "source": [
        "kid_passenger = ['Kid(s)']\n",
        "farm_fish_forestry_occp = ['Farming Fishing & Forestry']\n",
        "\n",
        "bar_oncemonth = bar_coupons.query('Y == 1 and Bar in @gt_once_a_month').count()['Y'] / bar_coupons.query('Bar in @gt_once_a_month').count()['Y']\n",
        "print(type(bar_oncemonth), bar_oncemonth)\n",
        "\n",
        "bar_kid_passenger = bar_coupons.query('Y == 1 and passanger in @kid_passenger').count()['Y'] / bar_coupons.query('passanger in @kid_passenger').count()['Y']\n",
        "print(type(bar_kid_passenger), bar_kid_passenger)\n",
        "\n",
        "bar_occup_otfarming = bar_coupons.query('Y == 1 and occupation not in @farm_fish_forestry_occp').count()['Y'] / bar_coupons.query('occupation not in @farm_fish_forestry_occp').count()['Y']\n",
        "print(type(bar_occup_otfarming), bar_occup_otfarming)\n"
      ]
    },
    {
      "cell_type": "markdown",
      "metadata": {
        "id": "n2LIUTil_qRK"
      },
      "source": [
        "6. Compare the acceptance rates between those drivers who:\n",
        "\n",
        "- go to bars more than once a month, had passengers that were not a kid, and were not widowed *OR*\n",
        "- go to bars more than once a month and are under the age of 30 *OR*\n",
        "- go to cheap restaurants more than 4 times a month and income is less than 50K.\n",
        "\n"
      ]
    },
    {
      "cell_type": "code",
      "execution_count": 294,
      "metadata": {
        "id": "aK_wEzx7_qRK"
      },
      "outputs": [
        {
          "name": "stdout",
          "output_type": "stream",
          "text": [
            "Scenario 1: <class 'numpy.float64'> 0.7094339622641509\n",
            "Scenario 2: <class 'numpy.float64'> 0.7195121951219512\n",
            "Scenario 3: <class 'numpy.float64'> 0.45645645645645644\n"
          ]
        }
      ],
      "source": [
        "scenario1 = 'Bar in @gt_once_a_month and passanger not in @kid_passenger and maritalStatus != \"Widowed\"'\n",
        "bar_scenario1 = bar_coupons.query('Y == 1 and ' + scenario1).count()['Y'] / bar_coupons.query(scenario1).count()['Y']\n",
        "print('Scenario 1:', type(bar_scenario1), bar_scenario1)\n",
        "\n",
        "scenario2 = 'Bar in @gt_once_a_month and age in (\"below21\", \"21\", \"26\")'\n",
        "bar_scenario2 = bar_coupons.query('Y == 1 and ' + scenario2).count()['Y'] / bar_coupons.query(scenario2).count()['Y']\n",
        "print('Scenario 2:', type(bar_scenario2), bar_scenario2)\n",
        "\n",
        "scenario3 = 'RestaurantLessThan20 in (\"4~8\", \"gt8\") and income in (\"Less than $12500\", \"$12500 - $24999\", \"$25000 - $37499\", \"$37500 - $49999\" )'\n",
        "bar_scenario3 = bar_coupons.query('Y == 1 and ' + scenario3).count()['Y'] / bar_coupons.query(scenario3).count()['Y']\n",
        "print('Scenario 3:', type(bar_scenario3), bar_scenario3)\n"
      ]
    },
    {
      "cell_type": "markdown",
      "metadata": {
        "id": "v3fL3QkO_qRK"
      },
      "source": [
        "7.  Based on these observations, what do you hypothesize about drivers who accepted the bar coupons?"
      ]
    },
    {
      "cell_type": "markdown",
      "metadata": {
        "id": "Y48naDFh_qRL"
      },
      "source": [
        "## Coupon Analysis\n",
        " 1. Little more than half of the drivers accepted coupon.\n",
        " 2. For Bar, the coupon acceptance rate, about 41%, is the lowest among all type of coupons. \n",
        "\n",
        "## Now focusing only on the Bar coupons,\n",
        " 1. Coupon acceptance rate is very high for drivers who visit bars more than three times per month compare to the drivers who don't. It is almost double. Drivers used to visit bars tend to accept offer more often.\n",
        " 2. Drivers with age 25 years or higher and also visit bars at least once a month are twice likely to accept bar coupons compare to the drivers who don't meet this criteria.\n",
        " 3. Drivers with Kids as passenger tend to ignore bar coupons and only accept at about 20% rate.\n",
        " 4. Widowed drivers don't prefer bar coupons! Drivers who at least once go to bar per month, not having kids as their passengers and are not widowed accepted bar coupon at 70% rate.\n",
        " 5. Younger drivers, age less than 30, and go to bar at least once a month prefer bar coupons with 70%+ acceptance rate.\n",
        " 6. Drivers who make less than 50K and prefer cheaper restaurant accept coupons at an average rate."
      ]
    }
  ],
  "metadata": {
    "colab": {
      "provenance": []
    },
    "kernelspec": {
      "display_name": "ucb_py312",
      "language": "python",
      "name": "python3"
    },
    "language_info": {
      "codemirror_mode": {
        "name": "ipython",
        "version": 3
      },
      "file_extension": ".py",
      "mimetype": "text/x-python",
      "name": "python",
      "nbconvert_exporter": "python",
      "pygments_lexer": "ipython3",
      "version": "3.12.7"
    }
  },
  "nbformat": 4,
  "nbformat_minor": 0
}
